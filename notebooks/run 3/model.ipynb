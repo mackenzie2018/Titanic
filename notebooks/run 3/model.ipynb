{
 "cells": [
  {
   "cell_type": "markdown",
   "metadata": {},
   "source": [
    "# Imports"
   ]
  },
  {
   "cell_type": "code",
   "execution_count": 2,
   "metadata": {
    "ExecuteTime": {
     "end_time": "2020-11-13T21:47:51.427996Z",
     "start_time": "2020-11-13T21:47:51.377904Z"
    }
   },
   "outputs": [],
   "source": [
    "%load_ext autoreload\n",
    "%autoreload 2"
   ]
  },
  {
   "cell_type": "code",
   "execution_count": 3,
   "metadata": {
    "ExecuteTime": {
     "end_time": "2020-11-13T21:47:53.764744Z",
     "start_time": "2020-11-13T21:47:53.092850Z"
    }
   },
   "outputs": [],
   "source": [
    "import pandas as pd\n",
    "import numpy as np\n",
    "import matplotlib.pyplot as plt"
   ]
  },
  {
   "cell_type": "code",
   "execution_count": 4,
   "metadata": {
    "ExecuteTime": {
     "end_time": "2020-11-13T21:47:53.812632Z",
     "start_time": "2020-11-13T21:47:53.766670Z"
    }
   },
   "outputs": [],
   "source": [
    "import sys\n",
    "sys.path.append(\"../..\")"
   ]
  },
  {
   "cell_type": "code",
   "execution_count": 5,
   "metadata": {
    "ExecuteTime": {
     "end_time": "2020-11-13T21:47:53.860447Z",
     "start_time": "2020-11-13T21:47:53.814571Z"
    }
   },
   "outputs": [],
   "source": [
    "from data_processing import prepare_train_and_test_data"
   ]
  },
  {
   "cell_type": "markdown",
   "metadata": {},
   "source": [
    "# `LogisticRegression`"
   ]
  },
  {
   "cell_type": "code",
   "execution_count": 6,
   "metadata": {
    "ExecuteTime": {
     "end_time": "2020-11-13T21:48:03.308106Z",
     "start_time": "2020-11-13T21:48:02.632406Z"
    }
   },
   "outputs": [],
   "source": [
    "from sklearn.linear_model import LogisticRegression"
   ]
  },
  {
   "cell_type": "code",
   "execution_count": 13,
   "metadata": {
    "ExecuteTime": {
     "end_time": "2020-11-13T22:22:17.920261Z",
     "start_time": "2020-11-13T22:22:17.680901Z"
    }
   },
   "outputs": [
    {
     "name": "stdout",
     "output_type": "stream",
     "text": [
      "C of 0.01 predicted survival rate of 0.19138755980861244\n",
      "C of 0.025 predicted survival rate of 0.2511961722488038\n",
      "C of 0.05 predicted survival rate of 0.29904306220095694\n",
      "C of 0.075 predicted survival rate of 0.3373205741626794\n",
      "C of 0.1 predicted survival rate of 0.34688995215311\n",
      "C of 1 predicted survival rate of 0.37559808612440193\n",
      "C of 10 predicted survival rate of 0.37799043062200954\n",
      "C of 100 predicted survival rate of 0.37799043062200954\n",
      "C of 1000 predicted survival rate of 0.37799043062200954\n"
     ]
    }
   ],
   "source": [
    "C = [0.01, 0.025 ,0.05, 0.075, 0.1, 1, 10, 100, 1000]\n",
    "\n",
    "for C_value in C:\n",
    "    X_train, y_train, X_test = prepare_train_and_test_data(\n",
    "        train_path=\"../../store/Run3_train_df.pkl\",\n",
    "        test_path=\"../../store/Run3_test_df.pkl\"\n",
    "    )\n",
    "    \n",
    "    clf = LogisticRegression(C=C_value, random_state=117)\n",
    "    clf.fit(X_train, y_train)\n",
    "    predictions = clf.predict(X_test)\n",
    "    X_test['Survived'] = predictions\n",
    "    predicted_survival_rate = X_test.Survived.sum() / X_test.Survived.size\n",
    "    print(f\"C of {C_value} predicted survival rate of {predicted_survival_rate}\")    \n",
    "    X_test['Survived'].to_csv(f\"../../predictions/Run3_C{C_value}_predictions.csv\")"
   ]
  },
  {
   "cell_type": "markdown",
   "metadata": {},
   "source": [
    "# `Support Vector Machine`"
   ]
  },
  {
   "cell_type": "code",
   "execution_count": 14,
   "metadata": {
    "ExecuteTime": {
     "end_time": "2020-11-13T22:29:45.500538Z",
     "start_time": "2020-11-13T22:29:45.441013Z"
    }
   },
   "outputs": [],
   "source": [
    "from sklearn.svm import SVC"
   ]
  },
  {
   "cell_type": "code",
   "execution_count": 15,
   "metadata": {
    "ExecuteTime": {
     "end_time": "2020-11-13T22:30:34.447456Z",
     "start_time": "2020-11-13T22:30:34.056074Z"
    }
   },
   "outputs": [
    {
     "name": "stdout",
     "output_type": "stream",
     "text": [
      "C of 0.01 predicted survival rate of 0.0\n",
      "C of 0.025 predicted survival rate of 0.19138755980861244\n",
      "C of 0.05 predicted survival rate of 0.2679425837320574\n",
      "C of 0.075 predicted survival rate of 0.26555023923444976\n",
      "C of 0.1 predicted survival rate of 0.26555023923444976\n",
      "C of 1 predicted survival rate of 0.26555023923444976\n",
      "C of 10 predicted survival rate of 0.291866028708134\n",
      "C of 100 predicted survival rate of 0.34210526315789475\n",
      "C of 1000 predicted survival rate of 0.4043062200956938\n"
     ]
    }
   ],
   "source": [
    "C = [0.01, 0.025 ,0.05, 0.075, 0.1, 1, 10, 100, 1000]\n",
    "\n",
    "for C_value in C:\n",
    "    X_train, y_train, X_test = prepare_train_and_test_data(\n",
    "        train_path=\"../../store/Run3_train_df.pkl\",\n",
    "        test_path=\"../../store/Run3_test_df.pkl\"\n",
    "    )\n",
    "    \n",
    "    clf = SVC(kernel='rbf', C=C_value, random_state=117)\n",
    "    clf.fit(X_train, y_train)\n",
    "    predictions = clf.predict(X_test)\n",
    "    X_test['Survived'] = predictions\n",
    "    predicted_survival_rate = X_test.Survived.sum() / X_test.Survived.size\n",
    "    print(f\"C of {C_value} predicted survival rate of {predicted_survival_rate}\")    \n",
    "    X_test['Survived'].to_csv(f\"../../predictions/Run3_SVM_C{C_value}_predictions.csv\")"
   ]
  },
  {
   "cell_type": "code",
   "execution_count": null,
   "metadata": {},
   "outputs": [],
   "source": []
  },
  {
   "cell_type": "code",
   "execution_count": null,
   "metadata": {},
   "outputs": [],
   "source": []
  }
 ],
 "metadata": {
  "kernelspec": {
   "display_name": "Python 3",
   "language": "python",
   "name": "python3"
  },
  "language_info": {
   "codemirror_mode": {
    "name": "ipython",
    "version": 3
   },
   "file_extension": ".py",
   "mimetype": "text/x-python",
   "name": "python",
   "nbconvert_exporter": "python",
   "pygments_lexer": "ipython3",
   "version": "3.8.5"
  },
  "toc": {
   "base_numbering": 1,
   "nav_menu": {},
   "number_sections": true,
   "sideBar": true,
   "skip_h1_title": false,
   "title_cell": "Table of Contents",
   "title_sidebar": "Contents",
   "toc_cell": false,
   "toc_position": {},
   "toc_section_display": true,
   "toc_window_display": false
  }
 },
 "nbformat": 4,
 "nbformat_minor": 4
}
