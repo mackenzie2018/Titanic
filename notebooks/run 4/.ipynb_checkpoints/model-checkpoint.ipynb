{
 "cells": [
  {
   "cell_type": "markdown",
   "metadata": {},
   "source": [
    "# Imports"
   ]
  },
  {
   "cell_type": "code",
   "execution_count": 1,
   "metadata": {
    "ExecuteTime": {
     "end_time": "2020-11-14T11:24:37.667645Z",
     "start_time": "2020-11-14T11:24:37.622037Z"
    }
   },
   "outputs": [],
   "source": [
    "%load_ext autoreload\n",
    "%autoreload 2"
   ]
  },
  {
   "cell_type": "code",
   "execution_count": 2,
   "metadata": {
    "ExecuteTime": {
     "end_time": "2020-11-14T11:24:44.399579Z",
     "start_time": "2020-11-14T11:24:43.746870Z"
    }
   },
   "outputs": [],
   "source": [
    "import pandas as pd\n",
    "import numpy as np\n",
    "import matplotlib.pyplot as plt"
   ]
  },
  {
   "cell_type": "code",
   "execution_count": 3,
   "metadata": {
    "ExecuteTime": {
     "end_time": "2020-11-14T11:24:49.329869Z",
     "start_time": "2020-11-14T11:24:49.278922Z"
    }
   },
   "outputs": [],
   "source": [
    "import sys\n",
    "sys.path.append(\"../..\")"
   ]
  },
  {
   "cell_type": "code",
   "execution_count": 4,
   "metadata": {
    "ExecuteTime": {
     "end_time": "2020-11-14T11:24:54.343396Z",
     "start_time": "2020-11-14T11:24:54.283198Z"
    }
   },
   "outputs": [],
   "source": [
    "from data_processing import prepare_train_and_test_data"
   ]
  },
  {
   "cell_type": "markdown",
   "metadata": {},
   "source": [
    "# `DecisionTree`"
   ]
  },
  {
   "cell_type": "code",
   "execution_count": 5,
   "metadata": {
    "ExecuteTime": {
     "end_time": "2020-11-14T12:47:06.228457Z",
     "start_time": "2020-11-14T12:47:06.112112Z"
    }
   },
   "outputs": [],
   "source": [
    "from sklearn.neighbors import KNeighborsClassifier"
   ]
  },
  {
   "cell_type": "code",
   "execution_count": 10,
   "metadata": {
    "ExecuteTime": {
     "end_time": "2020-11-14T13:02:26.145965Z",
     "start_time": "2020-11-14T13:02:25.945226Z"
    }
   },
   "outputs": [
    {
     "name": "stdout",
     "output_type": "stream",
     "text": [
      "3 NN's predicted survival rate of 0.3660287081339713\n",
      "5 NN's predicted survival rate of 0.3397129186602871\n",
      "9 NN's predicted survival rate of 0.34210526315789475\n",
      "13 NN's predicted survival rate of 0.33014354066985646\n",
      "17 NN's predicted survival rate of 0.3157894736842105\n"
     ]
    }
   ],
   "source": [
    "K = [3, 5, 9, 13, 17]\n",
    "\n",
    "for k in K:\n",
    "    X_train, y_train, X_test = prepare_train_and_test_data(\n",
    "        train_path=\"../../store/Run3_train_df.pkl\",\n",
    "        test_path=\"../../store/Run3_test_df.pkl\"\n",
    "    )\n",
    "    \n",
    "    clf = KNeighborsClassifier(\n",
    "        n_neighbors=k, weights='uniform', algorithm='auto', p=2\n",
    "    )\n",
    "    \n",
    "    clf.fit(X_train, y_train)\n",
    "    \n",
    "    predictions = clf.predict(X_test)\n",
    "    \n",
    "    X_test['Survived'] = predictions\n",
    "    \n",
    "    predicted_survival_rate = X_test.Survived.sum() / X_test.Survived.size\n",
    "    \n",
    "    print(f\"{k} NN's predicted survival rate of {predicted_survival_rate}\")    \n",
    "    \n",
    "    X_test['Survived'].to_csv(f\"../../predictions/Run4_{k}nn_uniform_predictions.csv\")"
   ]
  },
  {
   "cell_type": "code",
   "execution_count": null,
   "metadata": {},
   "outputs": [],
   "source": []
  }
 ],
 "metadata": {
  "kernelspec": {
   "display_name": "Python 3",
   "language": "python",
   "name": "python3"
  },
  "language_info": {
   "codemirror_mode": {
    "name": "ipython",
    "version": 3
   },
   "file_extension": ".py",
   "mimetype": "text/x-python",
   "name": "python",
   "nbconvert_exporter": "python",
   "pygments_lexer": "ipython3",
   "version": "3.8.5"
  },
  "toc": {
   "base_numbering": 1,
   "nav_menu": {},
   "number_sections": true,
   "sideBar": true,
   "skip_h1_title": false,
   "title_cell": "Table of Contents",
   "title_sidebar": "Contents",
   "toc_cell": false,
   "toc_position": {},
   "toc_section_display": true,
   "toc_window_display": false
  }
 },
 "nbformat": 4,
 "nbformat_minor": 4
}
