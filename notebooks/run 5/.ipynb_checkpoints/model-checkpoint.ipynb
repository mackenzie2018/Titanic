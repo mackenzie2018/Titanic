{
 "cells": [
  {
   "cell_type": "markdown",
   "metadata": {},
   "source": [
    "# Imports"
   ]
  },
  {
   "cell_type": "code",
   "execution_count": 1,
   "metadata": {
    "ExecuteTime": {
     "end_time": "2020-11-15T22:45:27.948045Z",
     "start_time": "2020-11-15T22:45:27.902758Z"
    }
   },
   "outputs": [],
   "source": [
    "%load_ext autoreload\n",
    "%autoreload 2"
   ]
  },
  {
   "cell_type": "code",
   "execution_count": 2,
   "metadata": {
    "ExecuteTime": {
     "end_time": "2020-11-15T22:45:29.421026Z",
     "start_time": "2020-11-15T22:45:28.173038Z"
    }
   },
   "outputs": [],
   "source": [
    "import pandas as pd\n",
    "import numpy as np\n",
    "import matplotlib.pyplot as plt"
   ]
  },
  {
   "cell_type": "code",
   "execution_count": 3,
   "metadata": {
    "ExecuteTime": {
     "end_time": "2020-11-15T22:45:29.468898Z",
     "start_time": "2020-11-15T22:45:29.423030Z"
    }
   },
   "outputs": [],
   "source": [
    "import sys\n",
    "sys.path.append(\"../..\")"
   ]
  },
  {
   "cell_type": "code",
   "execution_count": 4,
   "metadata": {
    "ExecuteTime": {
     "end_time": "2020-11-15T22:45:29.531730Z",
     "start_time": "2020-11-15T22:45:29.469896Z"
    }
   },
   "outputs": [],
   "source": [
    "from data_processing import prepare_train_and_test_data"
   ]
  },
  {
   "cell_type": "markdown",
   "metadata": {},
   "source": [
    "# `DecisionTree`"
   ]
  },
  {
   "cell_type": "code",
   "execution_count": 5,
   "metadata": {
    "ExecuteTime": {
     "end_time": "2020-11-15T23:18:27.422016Z",
     "start_time": "2020-11-15T23:18:26.209011Z"
    }
   },
   "outputs": [],
   "source": [
    "from sklearn import tree"
   ]
  },
  {
   "cell_type": "markdown",
   "metadata": {},
   "source": [
    "## entropy"
   ]
  },
  {
   "cell_type": "code",
   "execution_count": 12,
   "metadata": {
    "ExecuteTime": {
     "end_time": "2020-11-16T00:07:25.350052Z",
     "start_time": "2020-11-16T00:07:25.258297Z"
    }
   },
   "outputs": [
    {
     "name": "stdout",
     "output_type": "stream",
     "text": [
      "DecisionTree predicted a survival rate of 0.37799043062200954\n"
     ]
    }
   ],
   "source": [
    "X_train, y_train, X_test = prepare_train_and_test_data(\n",
    "    train_path=\"../../store/Run3_train_df.pkl\",\n",
    "    test_path=\"../../store/Run3_test_df.pkl\"\n",
    ")\n",
    "\n",
    "clf = tree.DecisionTreeClassifier(\n",
    "    random_state=33,\n",
    "    criterion='entropy'\n",
    ")\n",
    "\n",
    "clf.fit(X_train, y_train)\n",
    "\n",
    "predictions = clf.predict(X_test)\n",
    "\n",
    "X_test['Survived'] = predictions\n",
    "\n",
    "predicted_survival_rate = X_test.Survived.sum() / X_test.Survived.size\n",
    "\n",
    "print(f\"DecisionTree predicted a survival rate of {predicted_survival_rate}\")    \n",
    "\n",
    "X_test['Survived'].to_csv(f\"../../predictions/Run5_DecisionTree_entropy_predictions.csv\")"
   ]
  },
  {
   "cell_type": "code",
   "execution_count": 11,
   "metadata": {
    "ExecuteTime": {
     "end_time": "2020-11-16T00:07:17.634872Z",
     "start_time": "2020-11-16T00:07:17.565016Z"
    }
   },
   "outputs": [],
   "source": [
    "from sklearn.model_selection import cross_val_score"
   ]
  },
  {
   "cell_type": "code",
   "execution_count": 20,
   "metadata": {
    "ExecuteTime": {
     "end_time": "2020-11-16T00:10:18.505055Z",
     "start_time": "2020-11-16T00:10:18.387986Z"
    }
   },
   "outputs": [],
   "source": [
    "entropy_cross_val_scores = cross_val_score(clf, X_train, y_train, cv=10)"
   ]
  },
  {
   "cell_type": "code",
   "execution_count": 25,
   "metadata": {
    "ExecuteTime": {
     "end_time": "2020-11-16T00:11:36.933322Z",
     "start_time": "2020-11-16T00:11:36.865148Z"
    }
   },
   "outputs": [
    {
     "name": "stdout",
     "output_type": "stream",
     "text": [
      "[0.66292135 0.7752809  0.74157303 0.79775281 0.82022472 0.74157303\n",
      " 0.76404494 0.76404494 0.76404494 0.72727273]\n"
     ]
    }
   ],
   "source": [
    "print(entropy_cross_val_scores)"
   ]
  },
  {
   "cell_type": "markdown",
   "metadata": {},
   "source": [
    "## gini"
   ]
  },
  {
   "cell_type": "code",
   "execution_count": 21,
   "metadata": {
    "ExecuteTime": {
     "end_time": "2020-11-16T00:10:23.269035Z",
     "start_time": "2020-11-16T00:10:23.185266Z"
    }
   },
   "outputs": [
    {
     "name": "stdout",
     "output_type": "stream",
     "text": [
      "DecisionTree predicted a survival rate of 0.3923444976076555\n"
     ]
    }
   ],
   "source": [
    "X_train, y_train, X_test = prepare_train_and_test_data(\n",
    "    train_path=\"../../store/Run3_train_df.pkl\",\n",
    "    test_path=\"../../store/Run3_test_df.pkl\"\n",
    ")\n",
    "\n",
    "clf = tree.DecisionTreeClassifier(\n",
    "    random_state=33,\n",
    "    criterion='gini'\n",
    ")\n",
    "\n",
    "clf.fit(X_train, y_train)\n",
    "\n",
    "predictions = clf.predict(X_test)\n",
    "\n",
    "X_test['Survived'] = predictions\n",
    "\n",
    "predicted_survival_rate = X_test.Survived.sum() / X_test.Survived.size\n",
    "\n",
    "print(f\"DecisionTree predicted a survival rate of {predicted_survival_rate}\")    \n",
    "\n",
    "X_test['Survived'].to_csv(f\"../../predictions/Run5_DecisionTree_gini_predictions.csv\")"
   ]
  },
  {
   "cell_type": "code",
   "execution_count": 22,
   "metadata": {
    "ExecuteTime": {
     "end_time": "2020-11-16T00:10:35.599994Z",
     "start_time": "2020-11-16T00:10:35.523799Z"
    }
   },
   "outputs": [],
   "source": [
    "from sklearn.model_selection import cross_val_score"
   ]
  },
  {
   "cell_type": "code",
   "execution_count": 26,
   "metadata": {
    "ExecuteTime": {
     "end_time": "2020-11-16T00:21:14.458713Z",
     "start_time": "2020-11-16T00:21:14.372165Z"
    }
   },
   "outputs": [
    {
     "name": "stdout",
     "output_type": "stream",
     "text": [
      "[0.73991031 0.77477477 0.76126126 0.74324324]\n"
     ]
    }
   ],
   "source": [
    "gini_cross_val_score = cross_val_score(clf, X_train, y_train, cv=4)\n",
    "\n",
    "print(gini_cross_val_score)"
   ]
  }
 ],
 "metadata": {
  "kernelspec": {
   "display_name": "Python 3",
   "language": "python",
   "name": "python3"
  },
  "language_info": {
   "codemirror_mode": {
    "name": "ipython",
    "version": 3
   },
   "file_extension": ".py",
   "mimetype": "text/x-python",
   "name": "python",
   "nbconvert_exporter": "python",
   "pygments_lexer": "ipython3",
   "version": "3.8.5"
  },
  "toc": {
   "base_numbering": 1,
   "nav_menu": {},
   "number_sections": true,
   "sideBar": true,
   "skip_h1_title": false,
   "title_cell": "Table of Contents",
   "title_sidebar": "Contents",
   "toc_cell": false,
   "toc_position": {},
   "toc_section_display": true,
   "toc_window_display": false
  }
 },
 "nbformat": 4,
 "nbformat_minor": 4
}
