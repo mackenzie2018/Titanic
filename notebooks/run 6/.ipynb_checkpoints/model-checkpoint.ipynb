{
 "cells": [
  {
   "cell_type": "markdown",
   "metadata": {},
   "source": [
    "# Imports"
   ]
  },
  {
   "cell_type": "code",
   "execution_count": 1,
   "metadata": {
    "ExecuteTime": {
     "end_time": "2020-11-16T00:27:01.595268Z",
     "start_time": "2020-11-16T00:27:01.545929Z"
    }
   },
   "outputs": [],
   "source": [
    "%load_ext autoreload\n",
    "%autoreload 2"
   ]
  },
  {
   "cell_type": "code",
   "execution_count": 2,
   "metadata": {
    "ExecuteTime": {
     "end_time": "2020-11-16T00:27:02.504380Z",
     "start_time": "2020-11-16T00:27:01.763355Z"
    }
   },
   "outputs": [],
   "source": [
    "import pandas as pd\n",
    "import numpy as np\n",
    "import matplotlib.pyplot as plt"
   ]
  },
  {
   "cell_type": "code",
   "execution_count": 3,
   "metadata": {
    "ExecuteTime": {
     "end_time": "2020-11-16T00:27:02.568202Z",
     "start_time": "2020-11-16T00:27:02.506368Z"
    }
   },
   "outputs": [],
   "source": [
    "import sys\n",
    "sys.path.append(\"../..\")"
   ]
  },
  {
   "cell_type": "code",
   "execution_count": 4,
   "metadata": {
    "ExecuteTime": {
     "end_time": "2020-11-16T00:27:02.630397Z",
     "start_time": "2020-11-16T00:27:02.570197Z"
    }
   },
   "outputs": [],
   "source": [
    "from data_processing import prepare_train_and_test_data"
   ]
  },
  {
   "cell_type": "markdown",
   "metadata": {},
   "source": [
    "# Model"
   ]
  },
  {
   "cell_type": "code",
   "execution_count": 5,
   "metadata": {
    "ExecuteTime": {
     "end_time": "2020-11-16T00:27:53.023217Z",
     "start_time": "2020-11-16T00:27:52.939967Z"
    }
   },
   "outputs": [],
   "source": [
    "from sklearn.ensemble import RandomForestClassifier"
   ]
  },
  {
   "cell_type": "code",
   "execution_count": 7,
   "metadata": {
    "ExecuteTime": {
     "end_time": "2020-11-16T00:31:02.736332Z",
     "start_time": "2020-11-16T00:31:02.666192Z"
    }
   },
   "outputs": [],
   "source": [
    "from sklearn.model_selection import cross_val_score"
   ]
  },
  {
   "cell_type": "code",
   "execution_count": 16,
   "metadata": {
    "ExecuteTime": {
     "end_time": "2020-11-16T00:38:42.943254Z",
     "start_time": "2020-11-16T00:38:40.398489Z"
    }
   },
   "outputs": [
    {
     "name": "stdout",
     "output_type": "stream",
     "text": [
      "RandomForest predicted a survival rate of 0.22727272727272727\n",
      "RandomForest predicted a survival rate of 0.37799043062200954\n",
      "RandomForest predicted a survival rate of 0.3038277511961722\n",
      "RandomForest predicted a survival rate of 0.31100478468899523\n"
     ]
    }
   ],
   "source": [
    "n_estimators = [2, 5, 10, 20]\n",
    "scores = {}\n",
    "\n",
    "for n in n_estimators:\n",
    "\n",
    "    X_train, y_train, X_test = prepare_train_and_test_data(\n",
    "        train_path=\"../../store/Run3_train_df.pkl\",\n",
    "        test_path=\"../../store/Run3_test_df.pkl\"\n",
    "    )\n",
    "\n",
    "    clf = RandomForestClassifier(\n",
    "        random_state=21,\n",
    "        criterion='entropy',\n",
    "        n_estimators=n\n",
    "    )\n",
    "\n",
    "    clf.fit(X_train, y_train)\n",
    "\n",
    "    predictions = clf.predict(X_test)\n",
    "\n",
    "    X_test['Survived'] = predictions\n",
    "\n",
    "    predicted_survival_rate = X_test.Survived.sum() / X_test.Survived.size\n",
    "\n",
    "    print(f\"RandomForest predicted a survival rate of {predicted_survival_rate}\")    \n",
    "    \n",
    "    scores[n] = cross_val_score(clf, X_train, y_train, cv=30)\n",
    "    \n",
    "    X_test['Survived'].to_csv(f\"../../predictions/Run6_RandomForest_entropy_{n}_predictions.csv\")"
   ]
  },
  {
   "cell_type": "code",
   "execution_count": 15,
   "metadata": {
    "ExecuteTime": {
     "end_time": "2020-11-16T00:37:15.595919Z",
     "start_time": "2020-11-16T00:37:15.524645Z"
    }
   },
   "outputs": [
    {
     "data": {
      "text/plain": [
       "{2: array([0.8       , 0.73333333, 0.83333333, 0.8       , 0.7       ,\n",
       "        0.8       , 0.76666667, 0.76666667, 0.73333333, 0.7       ,\n",
       "        0.76666667, 0.8       , 0.86666667, 0.7       , 0.7       ,\n",
       "        0.73333333, 0.73333333, 0.76666667, 0.76666667, 0.75862069,\n",
       "        0.79310345, 0.75862069, 0.75862069, 0.68965517, 0.75862069,\n",
       "        0.79310345, 0.79310345, 0.72413793, 0.79310345, 0.75862069]),\n",
       " 5: array([0.8       , 0.7       , 0.8       , 0.83333333, 0.73333333,\n",
       "        0.86666667, 0.73333333, 0.76666667, 0.8       , 0.76666667,\n",
       "        0.8       , 0.8       , 0.9       , 0.86666667, 0.8       ,\n",
       "        0.76666667, 0.8       , 0.8       , 0.76666667, 0.82758621,\n",
       "        0.86206897, 0.82758621, 0.79310345, 0.75862069, 0.82758621,\n",
       "        0.82758621, 0.82758621, 0.68965517, 0.79310345, 0.93103448]),\n",
       " 10: array([0.8       , 0.8       , 0.83333333, 0.83333333, 0.8       ,\n",
       "        0.83333333, 0.8       , 0.83333333, 0.83333333, 0.8       ,\n",
       "        0.86666667, 0.83333333, 0.8       , 0.86666667, 0.83333333,\n",
       "        0.76666667, 0.76666667, 0.8       , 0.8       , 0.79310345,\n",
       "        0.86206897, 0.75862069, 0.72413793, 0.79310345, 0.93103448,\n",
       "        0.82758621, 0.86206897, 0.72413793, 0.79310345, 0.89655172]),\n",
       " 20: array([0.8       , 0.73333333, 0.8       , 0.86666667, 0.76666667,\n",
       "        0.83333333, 0.8       , 0.83333333, 0.86666667, 0.76666667,\n",
       "        0.86666667, 0.83333333, 0.83333333, 0.9       , 0.86666667,\n",
       "        0.8       , 0.76666667, 0.76666667, 0.8       , 0.82758621,\n",
       "        0.89655172, 0.79310345, 0.72413793, 0.86206897, 0.89655172,\n",
       "        0.79310345, 0.93103448, 0.72413793, 0.75862069, 0.96551724])}"
      ]
     },
     "execution_count": 15,
     "metadata": {},
     "output_type": "execute_result"
    }
   ],
   "source": [
    "scores"
   ]
  },
  {
   "cell_type": "code",
   "execution_count": 10,
   "metadata": {
    "ExecuteTime": {
     "end_time": "2020-11-16T00:32:44.401830Z",
     "start_time": "2020-11-16T00:32:44.317230Z"
    }
   },
   "outputs": [
    {
     "data": {
      "text/plain": [
       "array([0.19290736, 0.20937458, 0.04426142, 0.03583531, 0.20496856,\n",
       "       0.01066427, 0.00760528, 0.01843115, 0.02740674, 0.01616147,\n",
       "       0.03558522, 0.19679865])"
      ]
     },
     "execution_count": 10,
     "metadata": {},
     "output_type": "execute_result"
    }
   ],
   "source": [
    "clf.feature_importances_"
   ]
  }
 ],
 "metadata": {
  "kernelspec": {
   "display_name": "Python 3",
   "language": "python",
   "name": "python3"
  },
  "language_info": {
   "codemirror_mode": {
    "name": "ipython",
    "version": 3
   },
   "file_extension": ".py",
   "mimetype": "text/x-python",
   "name": "python",
   "nbconvert_exporter": "python",
   "pygments_lexer": "ipython3",
   "version": "3.8.5"
  },
  "toc": {
   "base_numbering": 1,
   "nav_menu": {},
   "number_sections": true,
   "sideBar": true,
   "skip_h1_title": false,
   "title_cell": "Table of Contents",
   "title_sidebar": "Contents",
   "toc_cell": false,
   "toc_position": {},
   "toc_section_display": true,
   "toc_window_display": false
  }
 },
 "nbformat": 4,
 "nbformat_minor": 4
}
