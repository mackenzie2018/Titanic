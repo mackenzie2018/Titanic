{
 "cells": [
  {
   "cell_type": "markdown",
   "metadata": {},
   "source": [
    "# Imports"
   ]
  },
  {
   "cell_type": "code",
   "execution_count": 1,
   "metadata": {
    "ExecuteTime": {
     "end_time": "2020-11-16T20:27:52.026106Z",
     "start_time": "2020-11-16T20:27:51.990884Z"
    }
   },
   "outputs": [],
   "source": [
    "%load_ext autoreload\n",
    "%autoreload 2"
   ]
  },
  {
   "cell_type": "code",
   "execution_count": 2,
   "metadata": {
    "ExecuteTime": {
     "end_time": "2020-11-16T20:27:53.325425Z",
     "start_time": "2020-11-16T20:27:52.186358Z"
    }
   },
   "outputs": [],
   "source": [
    "import pandas as pd\n",
    "import numpy as np\n",
    "import matplotlib.pyplot as plt"
   ]
  },
  {
   "cell_type": "code",
   "execution_count": 3,
   "metadata": {
    "ExecuteTime": {
     "end_time": "2020-11-16T20:27:53.389028Z",
     "start_time": "2020-11-16T20:27:53.327104Z"
    }
   },
   "outputs": [],
   "source": [
    "import sys\n",
    "sys.path.append(\"../..\")"
   ]
  },
  {
   "cell_type": "code",
   "execution_count": 4,
   "metadata": {
    "ExecuteTime": {
     "end_time": "2020-11-16T20:27:53.452048Z",
     "start_time": "2020-11-16T20:27:53.393190Z"
    }
   },
   "outputs": [],
   "source": [
    "from data_processing import prepare_train_and_test_data"
   ]
  },
  {
   "cell_type": "markdown",
   "metadata": {},
   "source": [
    "# Model"
   ]
  },
  {
   "cell_type": "code",
   "execution_count": 9,
   "metadata": {
    "ExecuteTime": {
     "end_time": "2020-11-16T20:30:12.330692Z",
     "start_time": "2020-11-16T20:30:11.044304Z"
    }
   },
   "outputs": [],
   "source": [
    "from sklearn.ensemble import RandomForestClassifier"
   ]
  },
  {
   "cell_type": "code",
   "execution_count": 10,
   "metadata": {
    "ExecuteTime": {
     "end_time": "2020-11-16T20:30:12.409732Z",
     "start_time": "2020-11-16T20:30:12.333615Z"
    }
   },
   "outputs": [],
   "source": [
    "from sklearn.model_selection import cross_val_score"
   ]
  },
  {
   "cell_type": "code",
   "execution_count": 13,
   "metadata": {
    "ExecuteTime": {
     "end_time": "2020-11-16T20:36:32.709661Z",
     "start_time": "2020-11-16T20:36:30.355595Z"
    }
   },
   "outputs": [
    {
     "name": "stdout",
     "output_type": "stream",
     "text": [
      "RandomForest predicted a survival rate of 0.22966507177033493\n",
      "RandomForest predicted a survival rate of 0.32057416267942584\n",
      "RandomForest predicted a survival rate of 0.2966507177033493\n",
      "RandomForest predicted a survival rate of 0.31100478468899523\n"
     ]
    }
   ],
   "source": [
    "n_estimators = [2, 5, 10, 20]\n",
    "scores = {}\n",
    "\n",
    "for n in n_estimators:\n",
    "\n",
    "    X_train, y_train, X_test = prepare_train_and_test_data(\n",
    "        train_path=\"../../store/Run3_train_df.pkl\",\n",
    "        test_path=\"../../store/Run3_test_df.pkl\"\n",
    "    )\n",
    "    \n",
    "    X_train = X_train[[col for col in X_train.columns if col != \"len_name\"]]\n",
    "    X_test = X_test[[col for col in X_test.columns if col != \"len_name\"]]\n",
    "    \n",
    "    clf = RandomForestClassifier(\n",
    "        random_state=21,\n",
    "        criterion='entropy',\n",
    "        n_estimators=n\n",
    "    )\n",
    "\n",
    "    clf.fit(X_train, y_train)\n",
    "\n",
    "    predictions = clf.predict(X_test)\n",
    "\n",
    "    X_test['Survived'] = predictions\n",
    "\n",
    "    predicted_survival_rate = X_test.Survived.sum() / X_test.Survived.size\n",
    "\n",
    "    print(f\"RandomForest predicted a survival rate of {predicted_survival_rate}\")    \n",
    "    \n",
    "    scores[n] = cross_val_score(clf, X_train, y_train, cv=30)\n",
    "    \n",
    "    X_test['Survived'].to_csv(f\"../../predictions/Run7_RandomForest_entropy_{n}_predictions.csv\")"
   ]
  }
 ],
 "metadata": {
  "kernelspec": {
   "display_name": "Python 3",
   "language": "python",
   "name": "python3"
  },
  "language_info": {
   "codemirror_mode": {
    "name": "ipython",
    "version": 3
   },
   "file_extension": ".py",
   "mimetype": "text/x-python",
   "name": "python",
   "nbconvert_exporter": "python",
   "pygments_lexer": "ipython3",
   "version": "3.8.5"
  },
  "toc": {
   "base_numbering": 1,
   "nav_menu": {},
   "number_sections": true,
   "sideBar": true,
   "skip_h1_title": false,
   "title_cell": "Table of Contents",
   "title_sidebar": "Contents",
   "toc_cell": false,
   "toc_position": {},
   "toc_section_display": true,
   "toc_window_display": false
  }
 },
 "nbformat": 4,
 "nbformat_minor": 4
}
