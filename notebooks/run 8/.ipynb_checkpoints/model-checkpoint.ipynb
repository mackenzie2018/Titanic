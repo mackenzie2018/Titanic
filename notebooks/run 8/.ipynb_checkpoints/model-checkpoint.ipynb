{
 "cells": [
  {
   "cell_type": "markdown",
   "metadata": {},
   "source": [
    "# Imports"
   ]
  },
  {
   "cell_type": "code",
   "execution_count": 1,
   "metadata": {
    "ExecuteTime": {
     "end_time": "2020-11-16T21:46:31.631771Z",
     "start_time": "2020-11-16T21:46:31.585827Z"
    }
   },
   "outputs": [],
   "source": [
    "%load_ext autoreload\n",
    "%autoreload 2"
   ]
  },
  {
   "cell_type": "code",
   "execution_count": 2,
   "metadata": {
    "ExecuteTime": {
     "end_time": "2020-11-16T21:46:32.571427Z",
     "start_time": "2020-11-16T21:46:31.767491Z"
    }
   },
   "outputs": [],
   "source": [
    "import pandas as pd\n",
    "import numpy as np\n",
    "import matplotlib.pyplot as plt"
   ]
  },
  {
   "cell_type": "code",
   "execution_count": 3,
   "metadata": {
    "ExecuteTime": {
     "end_time": "2020-11-16T21:46:32.633439Z",
     "start_time": "2020-11-16T21:46:32.573406Z"
    }
   },
   "outputs": [],
   "source": [
    "import sys\n",
    "sys.path.append(\"../..\")"
   ]
  },
  {
   "cell_type": "code",
   "execution_count": 4,
   "metadata": {
    "ExecuteTime": {
     "end_time": "2020-11-16T21:46:32.696412Z",
     "start_time": "2020-11-16T21:46:32.638258Z"
    }
   },
   "outputs": [],
   "source": [
    "from data_processing import prepare_train_and_test_data"
   ]
  },
  {
   "cell_type": "markdown",
   "metadata": {},
   "source": [
    "# Model"
   ]
  },
  {
   "cell_type": "code",
   "execution_count": 6,
   "metadata": {
    "ExecuteTime": {
     "end_time": "2020-11-16T21:47:00.588205Z",
     "start_time": "2020-11-16T21:47:00.427781Z"
    }
   },
   "outputs": [],
   "source": [
    "from sklearn.ensemble import RandomForestClassifier"
   ]
  },
  {
   "cell_type": "code",
   "execution_count": 5,
   "metadata": {
    "ExecuteTime": {
     "end_time": "2020-11-16T21:46:59.408785Z",
     "start_time": "2020-11-16T21:46:59.326073Z"
    }
   },
   "outputs": [],
   "source": [
    "from sklearn.model_selection import RandomizedSearchCV"
   ]
  },
  {
   "cell_type": "code",
   "execution_count": 20,
   "metadata": {
    "ExecuteTime": {
     "end_time": "2020-11-16T22:38:34.644361Z",
     "start_time": "2020-11-16T22:38:25.592159Z"
    }
   },
   "outputs": [],
   "source": [
    "params = {\n",
    "    \"n_estimators\":[2, 5, 10, 20, 50, 100, 250, 500, 1000],\n",
    "    \"criterion\":[\"gini\",\"entropy\"],\n",
    "    \"max_features\":[\"log2\",\"sqrt\"],\n",
    "    \"bootstrap\":[True,False]\n",
    "}\n",
    "\n",
    "X_train, y_train, X_test = prepare_train_and_test_data(\n",
    "    train_path=\"../../store/Run3_train_df.pkl\",\n",
    "    test_path=\"../../store/Run3_test_df.pkl\"\n",
    ")\n",
    "\n",
    "X_train = X_train[[col for col in X_train.columns if col != \"len_name\"]]\n",
    "X_test = X_test[[col for col in X_test.columns if col != \"len_name\"]]\n",
    "\n",
    "clf = RandomizedSearchCV(\n",
    "    RandomForestClassifier(), \n",
    "    params, \n",
    "    cv=5, \n",
    "    n_iter=10, \n",
    "    n_jobs=-1, \n",
    "    random_state=3\n",
    ")\n",
    "\n",
    "clf.fit(X_train, y_train)\n",
    "\n",
    "predictions = clf.predict(X_test)\n",
    "\n",
    "X_test['Survived'] = predictions\n",
    "\n",
    "predicted_survival_rate = X_test.Survived.sum() / X_test.Survived.size\n",
    "\n",
    "# print(f\"RandomForest predicted a survival rate of {predicted_survival_rate}\")    \n",
    "\n",
    "# scores[n] = cross_val_score(clf, X_train, y_train, cv=30)\n",
    "\n",
    "# X_test['Survived'].to_csv(f\"../../predictions/Run7_RandomForest_entropy_{n}_predictions.csv\")"
   ]
  },
  {
   "cell_type": "code",
   "execution_count": 21,
   "metadata": {
    "ExecuteTime": {
     "end_time": "2020-11-16T22:38:34.723369Z",
     "start_time": "2020-11-16T22:38:34.645965Z"
    }
   },
   "outputs": [
    {
     "data": {
      "text/plain": [
       "{'n_estimators': 250,\n",
       " 'max_features': 'log2',\n",
       " 'criterion': 'gini',\n",
       " 'bootstrap': True}"
      ]
     },
     "execution_count": 21,
     "metadata": {},
     "output_type": "execute_result"
    }
   ],
   "source": [
    "clf.best_params_"
   ]
  },
  {
   "cell_type": "code",
   "execution_count": 22,
   "metadata": {
    "ExecuteTime": {
     "end_time": "2020-11-16T22:38:34.800573Z",
     "start_time": "2020-11-16T22:38:34.724995Z"
    }
   },
   "outputs": [
    {
     "data": {
      "text/plain": [
       "0.813305402145623"
      ]
     },
     "execution_count": 22,
     "metadata": {},
     "output_type": "execute_result"
    }
   ],
   "source": [
    "clf.best_score_"
   ]
  },
  {
   "cell_type": "code",
   "execution_count": 23,
   "metadata": {
    "ExecuteTime": {
     "end_time": "2020-11-16T22:38:34.876790Z",
     "start_time": "2020-11-16T22:38:34.802962Z"
    }
   },
   "outputs": [
    {
     "data": {
      "text/plain": [
       "0.3397129186602871"
      ]
     },
     "execution_count": 23,
     "metadata": {},
     "output_type": "execute_result"
    }
   ],
   "source": [
    "predicted_survival_rate"
   ]
  },
  {
   "cell_type": "code",
   "execution_count": null,
   "metadata": {},
   "outputs": [],
   "source": []
  }
 ],
 "metadata": {
  "kernelspec": {
   "display_name": "Python 3",
   "language": "python",
   "name": "python3"
  },
  "language_info": {
   "codemirror_mode": {
    "name": "ipython",
    "version": 3
   },
   "file_extension": ".py",
   "mimetype": "text/x-python",
   "name": "python",
   "nbconvert_exporter": "python",
   "pygments_lexer": "ipython3",
   "version": "3.8.5"
  },
  "toc": {
   "base_numbering": 1,
   "nav_menu": {},
   "number_sections": true,
   "sideBar": true,
   "skip_h1_title": false,
   "title_cell": "Table of Contents",
   "title_sidebar": "Contents",
   "toc_cell": false,
   "toc_position": {},
   "toc_section_display": true,
   "toc_window_display": false
  }
 },
 "nbformat": 4,
 "nbformat_minor": 4
}
