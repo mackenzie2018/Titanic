{
 "cells": [
  {
   "cell_type": "markdown",
   "metadata": {},
   "source": [
    "# Imports"
   ]
  },
  {
   "cell_type": "code",
   "execution_count": 1,
   "metadata": {
    "ExecuteTime": {
     "end_time": "2020-11-12T19:36:23.700182Z",
     "start_time": "2020-11-12T19:36:23.063027Z"
    }
   },
   "outputs": [],
   "source": [
    "import pandas as pd\n",
    "import numpy as np\n",
    "import matplotlib.pyplot as plt\n",
    "%matplotlib inline"
   ]
  },
  {
   "cell_type": "code",
   "execution_count": 2,
   "metadata": {
    "ExecuteTime": {
     "end_time": "2020-11-12T19:36:23.794596Z",
     "start_time": "2020-11-12T19:36:23.744056Z"
    }
   },
   "outputs": [],
   "source": [
    "from ipywidgets import interact, interact_manual"
   ]
  },
  {
   "cell_type": "code",
   "execution_count": 3,
   "metadata": {
    "ExecuteTime": {
     "end_time": "2020-11-12T19:36:24.316918Z",
     "start_time": "2020-11-12T19:36:24.297493Z"
    }
   },
   "outputs": [],
   "source": [
    "from data_processing import fill_demean_scale"
   ]
  },
  {
   "cell_type": "markdown",
   "metadata": {},
   "source": [
    "# Read in `train` and `test` data"
   ]
  },
  {
   "cell_type": "code",
   "execution_count": 4,
   "metadata": {
    "ExecuteTime": {
     "end_time": "2020-11-12T19:36:29.911450Z",
     "start_time": "2020-11-12T19:36:29.889885Z"
    }
   },
   "outputs": [],
   "source": [
    "train_df = pd.read_csv(\"./train.csv\", index_col=0)"
   ]
  },
  {
   "cell_type": "code",
   "execution_count": 5,
   "metadata": {
    "ExecuteTime": {
     "end_time": "2020-11-12T19:36:30.037376Z",
     "start_time": "2020-11-12T19:36:30.021465Z"
    }
   },
   "outputs": [],
   "source": [
    "test_df = pd.read_csv(\"./test.csv\", index_col=0)"
   ]
  },
  {
   "cell_type": "markdown",
   "metadata": {
    "heading_collapsed": true
   },
   "source": [
    "# Explore dataset"
   ]
  },
  {
   "cell_type": "markdown",
   "metadata": {
    "heading_collapsed": true,
    "hidden": true
   },
   "source": [
    "## dtypes"
   ]
  },
  {
   "cell_type": "code",
   "execution_count": null,
   "metadata": {
    "ExecuteTime": {
     "end_time": "2020-11-11T20:40:41.128408Z",
     "start_time": "2020-11-11T20:40:41.106425Z"
    },
    "hidden": true
   },
   "outputs": [],
   "source": [
    "train_df.isnull().sum()"
   ]
  },
  {
   "cell_type": "code",
   "execution_count": null,
   "metadata": {
    "ExecuteTime": {
     "end_time": "2020-11-11T20:29:43.036889Z",
     "start_time": "2020-11-11T20:29:43.020933Z"
    },
    "hidden": true
   },
   "outputs": [],
   "source": [
    "train_df.dtypes"
   ]
  },
  {
   "cell_type": "markdown",
   "metadata": {
    "hidden": true
   },
   "source": [
    "We want to predict whether a passenger survived the Titanic or not. The target or label in this problem is therefore `Survived`.\n",
    "\n",
    "This is a categorical variable (1 or 0) and therefore we are dealing with a (binary) classification problem.\n",
    "\n",
    "On what types of information are our predictions to be based?"
   ]
  },
  {
   "cell_type": "markdown",
   "metadata": {
    "hidden": true
   },
   "source": [
    "## schema"
   ]
  },
  {
   "cell_type": "markdown",
   "metadata": {
    "ExecuteTime": {
     "end_time": "2020-11-10T21:30:54.369636Z",
     "start_time": "2020-11-10T21:30:54.346806Z"
    },
    "hidden": true
   },
   "source": [
    "`Pclass`: 1st, 2nd, or 3rd class ticket (int, categorical variable)\n",
    "\n",
    "`Name`: full name, string\n",
    "\n",
    "`Sex`: takes values `male` or `female`\n",
    "\n",
    "`Age`: age in years, float\n",
    "\n",
    "`SibSp`: the number of siblings or spouses that passenger had onboard, int\n",
    "\n",
    "`Parch`: the number of parents and children that passenger had onboard, int\n",
    "\n",
    "`Ticket`: the ticket number (non-standardised, a few different formats, str\n",
    "\n",
    "`Fare`: the cost of the tickets (in standardised currency???), float\n",
    "\n",
    "`Cabin`: the cabin code of each passenger, string\n",
    "\n",
    "`Embarked`: where they got on the boat (Cherbourg, Queenstown, Southampton), str (categorical)"
   ]
  },
  {
   "cell_type": "code",
   "execution_count": null,
   "metadata": {
    "ExecuteTime": {
     "end_time": "2020-11-11T20:29:43.843778Z",
     "start_time": "2020-11-11T20:29:43.811863Z"
    },
    "hidden": true
   },
   "outputs": [],
   "source": [
    "@interact\n",
    "def show_me_unique_values(column=sorted(list(train_df.columns))):\n",
    "    return train_df[column].unique()"
   ]
  },
  {
   "cell_type": "markdown",
   "metadata": {
    "heading_collapsed": true,
    "hidden": true
   },
   "source": [
    "## `Age`"
   ]
  },
  {
   "cell_type": "markdown",
   "metadata": {
    "hidden": true
   },
   "source": [
    "The mean passenger age was 29.7, with 44 0 to 5 year-olds."
   ]
  },
  {
   "cell_type": "code",
   "execution_count": null,
   "metadata": {
    "ExecuteTime": {
     "end_time": "2020-11-11T20:29:44.334654Z",
     "start_time": "2020-11-11T20:29:44.320690Z"
    },
    "hidden": true
   },
   "outputs": [],
   "source": [
    "train_df.Age.mean()"
   ]
  },
  {
   "cell_type": "code",
   "execution_count": null,
   "metadata": {
    "ExecuteTime": {
     "end_time": "2020-11-11T20:29:44.509225Z",
     "start_time": "2020-11-11T20:29:44.491233Z"
    },
    "hidden": true
   },
   "outputs": [],
   "source": [
    "train_df[train_df.Age <= 5.0]['Name'].count()"
   ]
  },
  {
   "cell_type": "code",
   "execution_count": null,
   "metadata": {
    "ExecuteTime": {
     "end_time": "2020-11-11T20:29:44.871535Z",
     "start_time": "2020-11-11T20:29:44.664090Z"
    },
    "hidden": true
   },
   "outputs": [],
   "source": [
    "train_df.Age.plot(kind='hist', bins=20)"
   ]
  },
  {
   "cell_type": "markdown",
   "metadata": {
    "heading_collapsed": true,
    "hidden": true
   },
   "source": [
    "## `Pclass`"
   ]
  },
  {
   "cell_type": "markdown",
   "metadata": {
    "hidden": true
   },
   "source": [
    "There were actually fewer second class tickets than first class tickets. Who woulda thought..."
   ]
  },
  {
   "cell_type": "code",
   "execution_count": null,
   "metadata": {
    "ExecuteTime": {
     "end_time": "2020-11-11T20:29:45.218673Z",
     "start_time": "2020-11-11T20:29:45.200685Z"
    },
    "hidden": true
   },
   "outputs": [],
   "source": [
    "assert (train_df.Pclass.value_counts() / train_df.Pclass.size).sum() == 1.0\n",
    "\n",
    "train_df.Pclass.value_counts() / train_df.Pclass.size"
   ]
  },
  {
   "cell_type": "code",
   "execution_count": null,
   "metadata": {
    "ExecuteTime": {
     "end_time": "2020-11-11T20:29:45.551744Z",
     "start_time": "2020-11-11T20:29:45.401147Z"
    },
    "hidden": true
   },
   "outputs": [],
   "source": [
    "train_df.Pclass.plot(kind='hist')"
   ]
  },
  {
   "cell_type": "markdown",
   "metadata": {
    "heading_collapsed": true,
    "hidden": true
   },
   "source": [
    "## `SibSp`"
   ]
  },
  {
   "cell_type": "markdown",
   "metadata": {
    "hidden": true
   },
   "source": [
    "Most of the passengers travelled with neither siblings nor spouses.\n",
    "\n",
    "This may mean that most travelled alone, or that they travelled with a parent or child."
   ]
  },
  {
   "cell_type": "code",
   "execution_count": null,
   "metadata": {
    "ExecuteTime": {
     "end_time": "2020-11-11T20:29:45.991567Z",
     "start_time": "2020-11-11T20:29:45.981628Z"
    },
    "hidden": true
   },
   "outputs": [],
   "source": [
    "train_df.SibSp.value_counts()"
   ]
  },
  {
   "cell_type": "code",
   "execution_count": null,
   "metadata": {
    "ExecuteTime": {
     "end_time": "2020-11-11T20:29:46.307139Z",
     "start_time": "2020-11-11T20:29:46.152515Z"
    },
    "hidden": true,
    "scrolled": true
   },
   "outputs": [],
   "source": [
    "train_df.SibSp.plot(kind='hist')"
   ]
  },
  {
   "cell_type": "markdown",
   "metadata": {
    "heading_collapsed": true,
    "hidden": true
   },
   "source": [
    "## `Parch`"
   ]
  },
  {
   "cell_type": "markdown",
   "metadata": {
    "hidden": true
   },
   "source": [
    "Most indeed travelled alone."
   ]
  },
  {
   "cell_type": "code",
   "execution_count": null,
   "metadata": {
    "ExecuteTime": {
     "end_time": "2020-11-11T20:29:47.145469Z",
     "start_time": "2020-11-11T20:29:47.138487Z"
    },
    "hidden": true
   },
   "outputs": [],
   "source": [
    "train_df.Parch.value_counts()"
   ]
  },
  {
   "cell_type": "code",
   "execution_count": null,
   "metadata": {
    "ExecuteTime": {
     "end_time": "2020-11-11T20:29:47.478934Z",
     "start_time": "2020-11-11T20:29:47.322995Z"
    },
    "hidden": true
   },
   "outputs": [],
   "source": [
    "train_df.Parch.plot(kind='hist')"
   ]
  },
  {
   "cell_type": "markdown",
   "metadata": {
    "heading_collapsed": true,
    "hidden": true
   },
   "source": [
    "## `Fare`"
   ]
  },
  {
   "cell_type": "code",
   "execution_count": null,
   "metadata": {
    "ExecuteTime": {
     "end_time": "2020-11-11T20:29:47.937645Z",
     "start_time": "2020-11-11T20:29:47.698316Z"
    },
    "hidden": true
   },
   "outputs": [],
   "source": [
    "train_df.plot(\n",
    "    kind='scatter', y='Fare', x='Age', c='Pclass', cmap='Set1',legend=True\n",
    ")"
   ]
  },
  {
   "cell_type": "markdown",
   "metadata": {
    "hidden": true
   },
   "source": [
    "At first glance it seems that `Fare` doesn't tell us much about `Age`."
   ]
  },
  {
   "cell_type": "markdown",
   "metadata": {
    "heading_collapsed": true,
    "hidden": true
   },
   "source": [
    "## `Cabin`"
   ]
  },
  {
   "cell_type": "code",
   "execution_count": null,
   "metadata": {
    "ExecuteTime": {
     "end_time": "2020-11-11T20:37:05.219605Z",
     "start_time": "2020-11-11T20:37:05.203551Z"
    },
    "hidden": true
   },
   "outputs": [],
   "source": [
    "# train_df['Cabin_prefix'] = train_df.Cabin.apply(\n",
    "#     lambda x: str(x)[0] if str(x) != 'nan' else 'nan'\n",
    "# )"
   ]
  },
  {
   "cell_type": "code",
   "execution_count": null,
   "metadata": {
    "ExecuteTime": {
     "end_time": "2020-11-11T20:29:48.520082Z",
     "start_time": "2020-11-11T20:29:48.505123Z"
    },
    "hidden": true
   },
   "outputs": [],
   "source": [
    "train_df.Cabin_prefix.unique()"
   ]
  },
  {
   "cell_type": "markdown",
   "metadata": {
    "hidden": true
   },
   "source": [
    "There are seven different `Cabin_prefix`es from `A` through `F` plus `T`. What did they mean?"
   ]
  },
  {
   "cell_type": "markdown",
   "metadata": {
    "hidden": true
   },
   "source": [
    "There are also some dirty data entries in `Cabin` such as \"F G63\"."
   ]
  },
  {
   "cell_type": "markdown",
   "metadata": {
    "hidden": true
   },
   "source": [
    "## `Embarked`"
   ]
  },
  {
   "cell_type": "code",
   "execution_count": null,
   "metadata": {
    "ExecuteTime": {
     "end_time": "2020-11-11T20:29:49.897342Z",
     "start_time": "2020-11-11T20:29:49.888325Z"
    },
    "hidden": true
   },
   "outputs": [],
   "source": [
    "embarked_mapping = {'Q':1, 'S':2, 'C':3}\n",
    "\n",
    "train_df['Embarked'] = train_df['Embarked'].map(embarked_mapping)"
   ]
  },
  {
   "cell_type": "code",
   "execution_count": null,
   "metadata": {
    "ExecuteTime": {
     "end_time": "2020-11-11T20:30:07.927681Z",
     "start_time": "2020-11-11T20:30:07.712792Z"
    },
    "hidden": true,
    "scrolled": false
   },
   "outputs": [],
   "source": [
    "train_df.plot(kind='scatter', x='Age', y='Fare', c='Embarked', cmap='Set1')"
   ]
  },
  {
   "cell_type": "markdown",
   "metadata": {
    "hidden": true
   },
   "source": [
    "## `test_df`"
   ]
  },
  {
   "cell_type": "code",
   "execution_count": null,
   "metadata": {
    "ExecuteTime": {
     "end_time": "2020-11-11T20:59:15.542285Z",
     "start_time": "2020-11-11T20:59:15.518329Z"
    },
    "hidden": true
   },
   "outputs": [],
   "source": [
    "test_df.describe()"
   ]
  },
  {
   "cell_type": "code",
   "execution_count": null,
   "metadata": {
    "hidden": true
   },
   "outputs": [],
   "source": []
  },
  {
   "cell_type": "code",
   "execution_count": null,
   "metadata": {
    "hidden": true
   },
   "outputs": [],
   "source": []
  },
  {
   "cell_type": "code",
   "execution_count": null,
   "metadata": {
    "hidden": true
   },
   "outputs": [],
   "source": []
  },
  {
   "cell_type": "code",
   "execution_count": null,
   "metadata": {
    "hidden": true
   },
   "outputs": [],
   "source": []
  },
  {
   "cell_type": "code",
   "execution_count": null,
   "metadata": {
    "hidden": true
   },
   "outputs": [],
   "source": []
  },
  {
   "cell_type": "code",
   "execution_count": null,
   "metadata": {
    "hidden": true
   },
   "outputs": [],
   "source": []
  },
  {
   "cell_type": "code",
   "execution_count": null,
   "metadata": {
    "hidden": true
   },
   "outputs": [],
   "source": []
  },
  {
   "cell_type": "markdown",
   "metadata": {},
   "source": [
    "# Process `train_df` data"
   ]
  },
  {
   "cell_type": "markdown",
   "metadata": {},
   "source": [
    "## `Sex`"
   ]
  },
  {
   "cell_type": "code",
   "execution_count": 6,
   "metadata": {
    "ExecuteTime": {
     "end_time": "2020-11-12T19:36:32.452281Z",
     "start_time": "2020-11-12T19:36:32.447354Z"
    }
   },
   "outputs": [],
   "source": [
    "sex_mapping = {'male':1,'female':0}\n",
    "train_df.Sex = train_df.Sex.map(sex_mapping)"
   ]
  },
  {
   "cell_type": "markdown",
   "metadata": {},
   "source": [
    "## `Age`, `Fare`, `Parch`, `SibSp`"
   ]
  },
  {
   "cell_type": "code",
   "execution_count": 7,
   "metadata": {
    "ExecuteTime": {
     "end_time": "2020-11-12T19:36:33.225087Z",
     "start_time": "2020-11-12T19:36:33.200557Z"
    }
   },
   "outputs": [],
   "source": [
    "for column in ['Age', 'Fare', 'Parch', 'SibSp']:\n",
    "    train_df[column] = fill_demean_scale(df=train_df, column=column)"
   ]
  },
  {
   "cell_type": "markdown",
   "metadata": {},
   "source": [
    "## Drop `Embarked` nulls"
   ]
  },
  {
   "cell_type": "code",
   "execution_count": 8,
   "metadata": {
    "ExecuteTime": {
     "end_time": "2020-11-12T19:36:33.838603Z",
     "start_time": "2020-11-12T19:36:33.829105Z"
    }
   },
   "outputs": [],
   "source": [
    "train_df = train_df[~train_df.Embarked.isnull()]\n",
    "embarked_mapping = {'Q':1, 'S':2, 'C':3}\n",
    "\n",
    "train_df['Embarked'] = train_df['Embarked'].map(embarked_mapping)"
   ]
  },
  {
   "cell_type": "markdown",
   "metadata": {},
   "source": [
    "## Drop `Cabin`"
   ]
  },
  {
   "cell_type": "code",
   "execution_count": 9,
   "metadata": {
    "ExecuteTime": {
     "end_time": "2020-11-12T19:36:35.067577Z",
     "start_time": "2020-11-12T19:36:35.061007Z"
    }
   },
   "outputs": [],
   "source": [
    "train_df = train_df.drop(columns='Cabin', axis=1)"
   ]
  },
  {
   "cell_type": "markdown",
   "metadata": {},
   "source": [
    "## Checks"
   ]
  },
  {
   "cell_type": "code",
   "execution_count": 10,
   "metadata": {
    "ExecuteTime": {
     "end_time": "2020-11-12T19:36:35.844614Z",
     "start_time": "2020-11-12T19:36:35.824400Z"
    }
   },
   "outputs": [
    {
     "data": {
      "text/plain": [
       "Index(['Survived', 'Pclass', 'Name', 'Sex', 'Age', 'SibSp', 'Parch', 'Ticket',\n",
       "       'Fare', 'Embarked'],\n",
       "      dtype='object')"
      ]
     },
     "execution_count": 10,
     "metadata": {},
     "output_type": "execute_result"
    }
   ],
   "source": [
    "train_df.columns"
   ]
  },
  {
   "cell_type": "code",
   "execution_count": 11,
   "metadata": {
    "ExecuteTime": {
     "end_time": "2020-11-12T19:36:36.538860Z",
     "start_time": "2020-11-12T19:36:36.520662Z"
    }
   },
   "outputs": [
    {
     "data": {
      "text/plain": [
       "0"
      ]
     },
     "execution_count": 11,
     "metadata": {},
     "output_type": "execute_result"
    }
   ],
   "source": [
    "train_df.isnull().sum().sum()"
   ]
  },
  {
   "cell_type": "markdown",
   "metadata": {},
   "source": [
    "# Process `test_df` data"
   ]
  },
  {
   "cell_type": "markdown",
   "metadata": {},
   "source": [
    "## `Sex`"
   ]
  },
  {
   "cell_type": "code",
   "execution_count": 12,
   "metadata": {
    "ExecuteTime": {
     "end_time": "2020-11-12T19:36:39.430586Z",
     "start_time": "2020-11-12T19:36:39.415987Z"
    }
   },
   "outputs": [],
   "source": [
    "sex_mapping = {'male':1,'female':0}\n",
    "test_df.Sex = test_df.Sex.map(sex_mapping)"
   ]
  },
  {
   "cell_type": "markdown",
   "metadata": {},
   "source": [
    "## `Age`, `Fare`, `Parch`, `SibSp`"
   ]
  },
  {
   "cell_type": "code",
   "execution_count": 13,
   "metadata": {
    "ExecuteTime": {
     "end_time": "2020-11-12T19:36:39.968280Z",
     "start_time": "2020-11-12T19:36:39.953148Z"
    }
   },
   "outputs": [],
   "source": [
    "for column in ['Age', 'Fare', 'Parch', 'SibSp']:\n",
    "    test_df[column] = fill_demean_scale(df=test_df, column=column)"
   ]
  },
  {
   "cell_type": "markdown",
   "metadata": {},
   "source": [
    "## Drop `Embarked` nulls"
   ]
  },
  {
   "cell_type": "code",
   "execution_count": 14,
   "metadata": {
    "ExecuteTime": {
     "end_time": "2020-11-12T19:36:40.483412Z",
     "start_time": "2020-11-12T19:36:40.471335Z"
    }
   },
   "outputs": [],
   "source": [
    "test_df = test_df[~test_df.Embarked.isnull()]\n",
    "\n",
    "embarked_mapping = {'Q':1, 'S':2, 'C':3}\n",
    "test_df['Embarked'] = test_df['Embarked'].map(embarked_mapping)"
   ]
  },
  {
   "cell_type": "markdown",
   "metadata": {},
   "source": [
    "## Drop `Cabin`"
   ]
  },
  {
   "cell_type": "code",
   "execution_count": 15,
   "metadata": {
    "ExecuteTime": {
     "end_time": "2020-11-12T19:36:43.488937Z",
     "start_time": "2020-11-12T19:36:43.480676Z"
    }
   },
   "outputs": [],
   "source": [
    "test_df = test_df.drop(columns='Cabin', axis=1)"
   ]
  },
  {
   "cell_type": "code",
   "execution_count": 16,
   "metadata": {
    "ExecuteTime": {
     "end_time": "2020-11-12T19:36:43.678615Z",
     "start_time": "2020-11-12T19:36:43.663282Z"
    }
   },
   "outputs": [
    {
     "data": {
      "text/plain": [
       "Index(['Pclass', 'Name', 'Sex', 'Age', 'SibSp', 'Parch', 'Ticket', 'Fare',\n",
       "       'Embarked'],\n",
       "      dtype='object')"
      ]
     },
     "execution_count": 16,
     "metadata": {},
     "output_type": "execute_result"
    }
   ],
   "source": [
    "test_df.columns"
   ]
  },
  {
   "cell_type": "markdown",
   "metadata": {},
   "source": [
    "## Checks"
   ]
  },
  {
   "cell_type": "code",
   "execution_count": 17,
   "metadata": {
    "ExecuteTime": {
     "end_time": "2020-11-12T19:36:45.073526Z",
     "start_time": "2020-11-12T19:36:45.067835Z"
    }
   },
   "outputs": [
    {
     "data": {
      "text/plain": [
       "Pclass        int64\n",
       "Name         object\n",
       "Sex           int64\n",
       "Age         float64\n",
       "SibSp       float64\n",
       "Parch       float64\n",
       "Ticket       object\n",
       "Fare        float64\n",
       "Embarked      int64\n",
       "dtype: object"
      ]
     },
     "execution_count": 17,
     "metadata": {},
     "output_type": "execute_result"
    }
   ],
   "source": [
    "test_df.dtypes"
   ]
  },
  {
   "cell_type": "code",
   "execution_count": 18,
   "metadata": {
    "ExecuteTime": {
     "end_time": "2020-11-12T19:36:46.904998Z",
     "start_time": "2020-11-12T19:36:46.885759Z"
    }
   },
   "outputs": [
    {
     "data": {
      "text/plain": [
       "Pclass      0\n",
       "Name        0\n",
       "Sex         0\n",
       "Age         0\n",
       "SibSp       0\n",
       "Parch       0\n",
       "Ticket      0\n",
       "Fare        0\n",
       "Embarked    0\n",
       "dtype: int64"
      ]
     },
     "execution_count": 18,
     "metadata": {},
     "output_type": "execute_result"
    }
   ],
   "source": [
    "test_df.isnull().sum()"
   ]
  },
  {
   "cell_type": "code",
   "execution_count": 19,
   "metadata": {
    "ExecuteTime": {
     "end_time": "2020-11-12T19:36:48.656032Z",
     "start_time": "2020-11-12T19:36:48.644356Z"
    }
   },
   "outputs": [],
   "source": [
    "assert len(train_df.columns) - 1 == len(test_df.columns)"
   ]
  },
  {
   "cell_type": "code",
   "execution_count": 20,
   "metadata": {
    "ExecuteTime": {
     "end_time": "2020-11-12T19:36:53.129599Z",
     "start_time": "2020-11-12T19:36:53.096602Z"
    }
   },
   "outputs": [
    {
     "data": {
      "text/html": [
       "<div>\n",
       "<style scoped>\n",
       "    .dataframe tbody tr th:only-of-type {\n",
       "        vertical-align: middle;\n",
       "    }\n",
       "\n",
       "    .dataframe tbody tr th {\n",
       "        vertical-align: top;\n",
       "    }\n",
       "\n",
       "    .dataframe thead th {\n",
       "        text-align: right;\n",
       "    }\n",
       "</style>\n",
       "<table border=\"1\" class=\"dataframe\">\n",
       "  <thead>\n",
       "    <tr style=\"text-align: right;\">\n",
       "      <th></th>\n",
       "      <th>Survived</th>\n",
       "      <th>Pclass</th>\n",
       "      <th>Sex</th>\n",
       "      <th>Age</th>\n",
       "      <th>SibSp</th>\n",
       "      <th>Parch</th>\n",
       "      <th>Fare</th>\n",
       "      <th>Embarked</th>\n",
       "    </tr>\n",
       "  </thead>\n",
       "  <tbody>\n",
       "    <tr>\n",
       "      <th>count</th>\n",
       "      <td>889.000000</td>\n",
       "      <td>889.000000</td>\n",
       "      <td>889.000000</td>\n",
       "      <td>889.000000</td>\n",
       "      <td>889.000000</td>\n",
       "      <td>889.000000</td>\n",
       "      <td>889.000000</td>\n",
       "      <td>889.000000</td>\n",
       "    </tr>\n",
       "    <tr>\n",
       "      <th>mean</th>\n",
       "      <td>0.382452</td>\n",
       "      <td>2.311586</td>\n",
       "      <td>0.649044</td>\n",
       "      <td>-0.000574</td>\n",
       "      <td>0.000147</td>\n",
       "      <td>0.000143</td>\n",
       "      <td>-0.000210</td>\n",
       "      <td>2.102362</td>\n",
       "    </tr>\n",
       "    <tr>\n",
       "      <th>std</th>\n",
       "      <td>0.486260</td>\n",
       "      <td>0.834700</td>\n",
       "      <td>0.477538</td>\n",
       "      <td>0.162960</td>\n",
       "      <td>0.137963</td>\n",
       "      <td>0.134460</td>\n",
       "      <td>0.097003</td>\n",
       "      <td>0.515181</td>\n",
       "    </tr>\n",
       "    <tr>\n",
       "      <th>min</th>\n",
       "      <td>0.000000</td>\n",
       "      <td>1.000000</td>\n",
       "      <td>0.000000</td>\n",
       "      <td>-0.367921</td>\n",
       "      <td>-0.065376</td>\n",
       "      <td>-0.063599</td>\n",
       "      <td>-0.062858</td>\n",
       "      <td>1.000000</td>\n",
       "    </tr>\n",
       "    <tr>\n",
       "      <th>25%</th>\n",
       "      <td>0.000000</td>\n",
       "      <td>2.000000</td>\n",
       "      <td>0.000000</td>\n",
       "      <td>-0.096747</td>\n",
       "      <td>-0.065376</td>\n",
       "      <td>-0.063599</td>\n",
       "      <td>-0.047447</td>\n",
       "      <td>2.000000</td>\n",
       "    </tr>\n",
       "    <tr>\n",
       "      <th>50%</th>\n",
       "      <td>0.000000</td>\n",
       "      <td>3.000000</td>\n",
       "      <td>1.000000</td>\n",
       "      <td>0.000000</td>\n",
       "      <td>-0.065376</td>\n",
       "      <td>-0.063599</td>\n",
       "      <td>-0.034646</td>\n",
       "      <td>2.000000</td>\n",
       "    </tr>\n",
       "    <tr>\n",
       "      <th>75%</th>\n",
       "      <td>1.000000</td>\n",
       "      <td>3.000000</td>\n",
       "      <td>1.000000</td>\n",
       "      <td>0.066611</td>\n",
       "      <td>0.059624</td>\n",
       "      <td>-0.063599</td>\n",
       "      <td>-0.002350</td>\n",
       "      <td>2.000000</td>\n",
       "    </tr>\n",
       "    <tr>\n",
       "      <th>max</th>\n",
       "      <td>1.000000</td>\n",
       "      <td>3.000000</td>\n",
       "      <td>1.000000</td>\n",
       "      <td>0.632079</td>\n",
       "      <td>0.934624</td>\n",
       "      <td>0.936401</td>\n",
       "      <td>0.937142</td>\n",
       "      <td>3.000000</td>\n",
       "    </tr>\n",
       "  </tbody>\n",
       "</table>\n",
       "</div>"
      ],
      "text/plain": [
       "         Survived      Pclass         Sex         Age       SibSp       Parch  \\\n",
       "count  889.000000  889.000000  889.000000  889.000000  889.000000  889.000000   \n",
       "mean     0.382452    2.311586    0.649044   -0.000574    0.000147    0.000143   \n",
       "std      0.486260    0.834700    0.477538    0.162960    0.137963    0.134460   \n",
       "min      0.000000    1.000000    0.000000   -0.367921   -0.065376   -0.063599   \n",
       "25%      0.000000    2.000000    0.000000   -0.096747   -0.065376   -0.063599   \n",
       "50%      0.000000    3.000000    1.000000    0.000000   -0.065376   -0.063599   \n",
       "75%      1.000000    3.000000    1.000000    0.066611    0.059624   -0.063599   \n",
       "max      1.000000    3.000000    1.000000    0.632079    0.934624    0.936401   \n",
       "\n",
       "             Fare    Embarked  \n",
       "count  889.000000  889.000000  \n",
       "mean    -0.000210    2.102362  \n",
       "std      0.097003    0.515181  \n",
       "min     -0.062858    1.000000  \n",
       "25%     -0.047447    2.000000  \n",
       "50%     -0.034646    2.000000  \n",
       "75%     -0.002350    2.000000  \n",
       "max      0.937142    3.000000  "
      ]
     },
     "execution_count": 20,
     "metadata": {},
     "output_type": "execute_result"
    }
   ],
   "source": [
    "train_df.describe()"
   ]
  },
  {
   "cell_type": "code",
   "execution_count": 21,
   "metadata": {
    "ExecuteTime": {
     "end_time": "2020-11-12T19:36:53.650866Z",
     "start_time": "2020-11-12T19:36:53.608939Z"
    }
   },
   "outputs": [
    {
     "data": {
      "text/html": [
       "<div>\n",
       "<style scoped>\n",
       "    .dataframe tbody tr th:only-of-type {\n",
       "        vertical-align: middle;\n",
       "    }\n",
       "\n",
       "    .dataframe tbody tr th {\n",
       "        vertical-align: top;\n",
       "    }\n",
       "\n",
       "    .dataframe thead th {\n",
       "        text-align: right;\n",
       "    }\n",
       "</style>\n",
       "<table border=\"1\" class=\"dataframe\">\n",
       "  <thead>\n",
       "    <tr style=\"text-align: right;\">\n",
       "      <th></th>\n",
       "      <th>Pclass</th>\n",
       "      <th>Sex</th>\n",
       "      <th>Age</th>\n",
       "      <th>SibSp</th>\n",
       "      <th>Parch</th>\n",
       "      <th>Fare</th>\n",
       "      <th>Embarked</th>\n",
       "    </tr>\n",
       "  </thead>\n",
       "  <tbody>\n",
       "    <tr>\n",
       "      <th>count</th>\n",
       "      <td>418.000000</td>\n",
       "      <td>418.000000</td>\n",
       "      <td>4.180000e+02</td>\n",
       "      <td>4.180000e+02</td>\n",
       "      <td>4.180000e+02</td>\n",
       "      <td>4.180000e+02</td>\n",
       "      <td>418.000000</td>\n",
       "    </tr>\n",
       "    <tr>\n",
       "      <th>mean</th>\n",
       "      <td>2.265550</td>\n",
       "      <td>0.636364</td>\n",
       "      <td>3.187243e-18</td>\n",
       "      <td>-3.187243e-18</td>\n",
       "      <td>-2.921640e-18</td>\n",
       "      <td>-1.062414e-18</td>\n",
       "      <td>2.133971</td>\n",
       "    </tr>\n",
       "    <tr>\n",
       "      <th>std</th>\n",
       "      <td>0.841838</td>\n",
       "      <td>0.481622</td>\n",
       "      <td>1.666166e-01</td>\n",
       "      <td>1.120949e-01</td>\n",
       "      <td>1.090477e-01</td>\n",
       "      <td>1.089934e-01</td>\n",
       "      <td>0.580452</td>\n",
       "    </tr>\n",
       "    <tr>\n",
       "      <th>min</th>\n",
       "      <td>1.000000</td>\n",
       "      <td>0.000000</td>\n",
       "      <td>-3.969747e-01</td>\n",
       "      <td>-5.592105e-02</td>\n",
       "      <td>-4.359383e-02</td>\n",
       "      <td>-6.953964e-02</td>\n",
       "      <td>1.000000</td>\n",
       "    </tr>\n",
       "    <tr>\n",
       "      <th>25%</th>\n",
       "      <td>1.000000</td>\n",
       "      <td>0.000000</td>\n",
       "      <td>-9.590651e-02</td>\n",
       "      <td>-5.592105e-02</td>\n",
       "      <td>-4.359383e-02</td>\n",
       "      <td>-5.412807e-02</td>\n",
       "      <td>2.000000</td>\n",
       "    </tr>\n",
       "    <tr>\n",
       "      <th>50%</th>\n",
       "      <td>3.000000</td>\n",
       "      <td>1.000000</td>\n",
       "      <td>0.000000e+00</td>\n",
       "      <td>-5.592105e-02</td>\n",
       "      <td>-4.359383e-02</td>\n",
       "      <td>-4.132692e-02</td>\n",
       "      <td>2.000000</td>\n",
       "    </tr>\n",
       "    <tr>\n",
       "      <th>75%</th>\n",
       "      <td>3.000000</td>\n",
       "      <td>1.000000</td>\n",
       "      <td>7.223275e-02</td>\n",
       "      <td>6.907895e-02</td>\n",
       "      <td>-4.359383e-02</td>\n",
       "      <td>-8.055735e-03</td>\n",
       "      <td>2.000000</td>\n",
       "    </tr>\n",
       "    <tr>\n",
       "      <th>max</th>\n",
       "      <td>3.000000</td>\n",
       "      <td>1.000000</td>\n",
       "      <td>6.030253e-01</td>\n",
       "      <td>9.440789e-01</td>\n",
       "      <td>9.564062e-01</td>\n",
       "      <td>9.304604e-01</td>\n",
       "      <td>3.000000</td>\n",
       "    </tr>\n",
       "  </tbody>\n",
       "</table>\n",
       "</div>"
      ],
      "text/plain": [
       "           Pclass         Sex           Age         SibSp         Parch  \\\n",
       "count  418.000000  418.000000  4.180000e+02  4.180000e+02  4.180000e+02   \n",
       "mean     2.265550    0.636364  3.187243e-18 -3.187243e-18 -2.921640e-18   \n",
       "std      0.841838    0.481622  1.666166e-01  1.120949e-01  1.090477e-01   \n",
       "min      1.000000    0.000000 -3.969747e-01 -5.592105e-02 -4.359383e-02   \n",
       "25%      1.000000    0.000000 -9.590651e-02 -5.592105e-02 -4.359383e-02   \n",
       "50%      3.000000    1.000000  0.000000e+00 -5.592105e-02 -4.359383e-02   \n",
       "75%      3.000000    1.000000  7.223275e-02  6.907895e-02 -4.359383e-02   \n",
       "max      3.000000    1.000000  6.030253e-01  9.440789e-01  9.564062e-01   \n",
       "\n",
       "               Fare    Embarked  \n",
       "count  4.180000e+02  418.000000  \n",
       "mean  -1.062414e-18    2.133971  \n",
       "std    1.089934e-01    0.580452  \n",
       "min   -6.953964e-02    1.000000  \n",
       "25%   -5.412807e-02    2.000000  \n",
       "50%   -4.132692e-02    2.000000  \n",
       "75%   -8.055735e-03    2.000000  \n",
       "max    9.304604e-01    3.000000  "
      ]
     },
     "execution_count": 21,
     "metadata": {},
     "output_type": "execute_result"
    }
   ],
   "source": [
    "test_df.describe()"
   ]
  },
  {
   "cell_type": "code",
   "execution_count": 22,
   "metadata": {
    "ExecuteTime": {
     "end_time": "2020-11-12T19:37:42.910659Z",
     "start_time": "2020-11-12T19:37:42.892872Z"
    }
   },
   "outputs": [],
   "source": [
    "test_df.to_pickle(\"./store/Run1_test_df.pkl\")"
   ]
  },
  {
   "cell_type": "code",
   "execution_count": 23,
   "metadata": {
    "ExecuteTime": {
     "end_time": "2020-11-12T19:37:43.905211Z",
     "start_time": "2020-11-12T19:37:43.890396Z"
    }
   },
   "outputs": [],
   "source": [
    "train_df.to_pickle(\"./store/Run1_train_df.pkl\")"
   ]
  },
  {
   "cell_type": "markdown",
   "metadata": {},
   "source": [
    "# `X_train, y_train, X_test`"
   ]
  },
  {
   "cell_type": "code",
   "execution_count": 44,
   "metadata": {
    "ExecuteTime": {
     "end_time": "2020-11-12T19:58:21.535450Z",
     "start_time": "2020-11-12T19:58:21.526089Z"
    }
   },
   "outputs": [],
   "source": [
    "train_df = pd.read_pickle(\"./store/Run1_train_df.pkl\")\n",
    "test_df = pd.read_pickle(\"./store/Run1_test_df.pkl\")"
   ]
  },
  {
   "cell_type": "code",
   "execution_count": 45,
   "metadata": {
    "ExecuteTime": {
     "end_time": "2020-11-12T19:58:21.959419Z",
     "start_time": "2020-11-12T19:58:21.950332Z"
    }
   },
   "outputs": [],
   "source": [
    "cols_to_drop = [\"Name\", \"Ticket\", \"Survived\"]\n",
    "\n",
    "features = [col for col in train_df.columns if col not in cols_to_drop]\n",
    "\n",
    "X_train, y_train = train_df[features], train_df.Survived"
   ]
  },
  {
   "cell_type": "code",
   "execution_count": 46,
   "metadata": {
    "ExecuteTime": {
     "end_time": "2020-11-12T19:58:22.414457Z",
     "start_time": "2020-11-12T19:58:22.409885Z"
    }
   },
   "outputs": [],
   "source": [
    "X_test = test_df[features]"
   ]
  },
  {
   "cell_type": "code",
   "execution_count": 47,
   "metadata": {
    "ExecuteTime": {
     "end_time": "2020-11-12T20:02:23.972163Z",
     "start_time": "2020-11-12T20:02:23.965274Z"
    }
   },
   "outputs": [],
   "source": [
    "cols_to_drop = [\"Name\", \"Ticket\", \"Survived\"]\n",
    "\n",
    "def prepare_train_and_test_data():\n",
    "    train_df = pd.read_pickle(\"./store/Run1_train_df.pkl\")\n",
    "    test_df = pd.read_pickle(\"./store/Run1_test_df.pkl\")\n",
    "    features = [col for col in train_df.columns if col not in cols_to_drop]\n",
    "    X_train, y_train = train_df[features], train_df.Survived\n",
    "    X_test = test_df[features]\n",
    "    return X_train, y_train, X_test"
   ]
  },
  {
   "cell_type": "markdown",
   "metadata": {},
   "source": [
    "# Run #1 : `LogisticRegression`"
   ]
  },
  {
   "cell_type": "code",
   "execution_count": 26,
   "metadata": {
    "ExecuteTime": {
     "end_time": "2020-11-12T19:39:37.361577Z",
     "start_time": "2020-11-12T19:39:36.289610Z"
    }
   },
   "outputs": [],
   "source": [
    "from sklearn.linear_model import LogisticRegression\n",
    "clf = LogisticRegression()"
   ]
  },
  {
   "cell_type": "code",
   "execution_count": 27,
   "metadata": {
    "ExecuteTime": {
     "end_time": "2020-11-12T19:39:38.561380Z",
     "start_time": "2020-11-12T19:39:38.494363Z"
    }
   },
   "outputs": [
    {
     "data": {
      "text/plain": [
       "LogisticRegression()"
      ]
     },
     "execution_count": 27,
     "metadata": {},
     "output_type": "execute_result"
    }
   ],
   "source": [
    "clf.fit(X_train, y_train)"
   ]
  },
  {
   "cell_type": "code",
   "execution_count": 28,
   "metadata": {
    "ExecuteTime": {
     "end_time": "2020-11-12T19:39:40.301594Z",
     "start_time": "2020-11-12T19:39:40.289589Z"
    }
   },
   "outputs": [],
   "source": [
    "predictions = clf.predict(X_test)"
   ]
  },
  {
   "cell_type": "code",
   "execution_count": 29,
   "metadata": {
    "ExecuteTime": {
     "end_time": "2020-11-12T19:39:43.485778Z",
     "start_time": "2020-11-12T19:39:43.479631Z"
    }
   },
   "outputs": [],
   "source": [
    "test_df['Survived'] = predictions"
   ]
  },
  {
   "cell_type": "code",
   "execution_count": 30,
   "metadata": {
    "ExecuteTime": {
     "end_time": "2020-11-12T19:39:44.638631Z",
     "start_time": "2020-11-12T19:39:44.615313Z"
    }
   },
   "outputs": [
    {
     "data": {
      "text/html": [
       "<div>\n",
       "<style scoped>\n",
       "    .dataframe tbody tr th:only-of-type {\n",
       "        vertical-align: middle;\n",
       "    }\n",
       "\n",
       "    .dataframe tbody tr th {\n",
       "        vertical-align: top;\n",
       "    }\n",
       "\n",
       "    .dataframe thead th {\n",
       "        text-align: right;\n",
       "    }\n",
       "</style>\n",
       "<table border=\"1\" class=\"dataframe\">\n",
       "  <thead>\n",
       "    <tr style=\"text-align: right;\">\n",
       "      <th></th>\n",
       "      <th>Pclass</th>\n",
       "      <th>Name</th>\n",
       "      <th>Sex</th>\n",
       "      <th>Age</th>\n",
       "      <th>SibSp</th>\n",
       "      <th>Parch</th>\n",
       "      <th>Ticket</th>\n",
       "      <th>Fare</th>\n",
       "      <th>Embarked</th>\n",
       "      <th>Survived</th>\n",
       "    </tr>\n",
       "    <tr>\n",
       "      <th>PassengerId</th>\n",
       "      <th></th>\n",
       "      <th></th>\n",
       "      <th></th>\n",
       "      <th></th>\n",
       "      <th></th>\n",
       "      <th></th>\n",
       "      <th></th>\n",
       "      <th></th>\n",
       "      <th></th>\n",
       "      <th></th>\n",
       "    </tr>\n",
       "  </thead>\n",
       "  <tbody>\n",
       "    <tr>\n",
       "      <th>892</th>\n",
       "      <td>3</td>\n",
       "      <td>Kelly, Mr. James</td>\n",
       "      <td>1</td>\n",
       "      <td>0.055749</td>\n",
       "      <td>-0.055921</td>\n",
       "      <td>-0.043594</td>\n",
       "      <td>330911</td>\n",
       "      <td>-0.054258</td>\n",
       "      <td>1</td>\n",
       "      <td>0</td>\n",
       "    </tr>\n",
       "    <tr>\n",
       "      <th>893</th>\n",
       "      <td>3</td>\n",
       "      <td>Wilkes, Mrs. James (Ellen Needs)</td>\n",
       "      <td>0</td>\n",
       "      <td>0.220591</td>\n",
       "      <td>0.069079</td>\n",
       "      <td>-0.043594</td>\n",
       "      <td>363272</td>\n",
       "      <td>-0.055877</td>\n",
       "      <td>2</td>\n",
       "      <td>0</td>\n",
       "    </tr>\n",
       "    <tr>\n",
       "      <th>894</th>\n",
       "      <td>2</td>\n",
       "      <td>Myles, Mr. Thomas Francis</td>\n",
       "      <td>1</td>\n",
       "      <td>0.418402</td>\n",
       "      <td>-0.055921</td>\n",
       "      <td>-0.043594</td>\n",
       "      <td>240276</td>\n",
       "      <td>-0.050631</td>\n",
       "      <td>1</td>\n",
       "      <td>0</td>\n",
       "    </tr>\n",
       "    <tr>\n",
       "      <th>895</th>\n",
       "      <td>3</td>\n",
       "      <td>Wirz, Mr. Albert</td>\n",
       "      <td>1</td>\n",
       "      <td>-0.043157</td>\n",
       "      <td>-0.055921</td>\n",
       "      <td>-0.043594</td>\n",
       "      <td>315154</td>\n",
       "      <td>-0.052632</td>\n",
       "      <td>2</td>\n",
       "      <td>0</td>\n",
       "    </tr>\n",
       "    <tr>\n",
       "      <th>896</th>\n",
       "      <td>3</td>\n",
       "      <td>Hirvonen, Mrs. Alexander (Helga E Lindqvist)</td>\n",
       "      <td>0</td>\n",
       "      <td>-0.109094</td>\n",
       "      <td>0.069079</td>\n",
       "      <td>0.067517</td>\n",
       "      <td>3101298</td>\n",
       "      <td>-0.045556</td>\n",
       "      <td>2</td>\n",
       "      <td>1</td>\n",
       "    </tr>\n",
       "  </tbody>\n",
       "</table>\n",
       "</div>"
      ],
      "text/plain": [
       "             Pclass                                          Name  Sex  \\\n",
       "PassengerId                                                              \n",
       "892               3                              Kelly, Mr. James    1   \n",
       "893               3              Wilkes, Mrs. James (Ellen Needs)    0   \n",
       "894               2                     Myles, Mr. Thomas Francis    1   \n",
       "895               3                              Wirz, Mr. Albert    1   \n",
       "896               3  Hirvonen, Mrs. Alexander (Helga E Lindqvist)    0   \n",
       "\n",
       "                  Age     SibSp     Parch   Ticket      Fare  Embarked  \\\n",
       "PassengerId                                                              \n",
       "892          0.055749 -0.055921 -0.043594   330911 -0.054258         1   \n",
       "893          0.220591  0.069079 -0.043594   363272 -0.055877         2   \n",
       "894          0.418402 -0.055921 -0.043594   240276 -0.050631         1   \n",
       "895         -0.043157 -0.055921 -0.043594   315154 -0.052632         2   \n",
       "896         -0.109094  0.069079  0.067517  3101298 -0.045556         2   \n",
       "\n",
       "             Survived  \n",
       "PassengerId            \n",
       "892                 0  \n",
       "893                 0  \n",
       "894                 0  \n",
       "895                 0  \n",
       "896                 1  "
      ]
     },
     "execution_count": 30,
     "metadata": {},
     "output_type": "execute_result"
    }
   ],
   "source": [
    "test_df.head()"
   ]
  },
  {
   "cell_type": "code",
   "execution_count": 31,
   "metadata": {
    "ExecuteTime": {
     "end_time": "2020-11-12T19:39:57.533713Z",
     "start_time": "2020-11-12T19:39:57.514036Z"
    }
   },
   "outputs": [
    {
     "data": {
      "text/plain": [
       "0    263\n",
       "1    155\n",
       "Name: Survived, dtype: int64"
      ]
     },
     "execution_count": 31,
     "metadata": {},
     "output_type": "execute_result"
    }
   ],
   "source": [
    "test_df['Survived'].value_counts()"
   ]
  },
  {
   "cell_type": "code",
   "execution_count": 32,
   "metadata": {
    "ExecuteTime": {
     "end_time": "2020-11-12T19:40:29.470557Z",
     "start_time": "2020-11-12T19:40:29.448752Z"
    }
   },
   "outputs": [],
   "source": [
    "test_df[\"Survived\"].to_csv(\"./predictions/Run1_predicted_values.csv\")"
   ]
  },
  {
   "cell_type": "markdown",
   "metadata": {},
   "source": [
    "# Run #2: `svm.SVC`"
   ]
  },
  {
   "cell_type": "code",
   "execution_count": 37,
   "metadata": {
    "ExecuteTime": {
     "end_time": "2020-11-12T19:45:10.462387Z",
     "start_time": "2020-11-12T19:45:10.459384Z"
    }
   },
   "outputs": [],
   "source": [
    "from sklearn import svm"
   ]
  },
  {
   "cell_type": "code",
   "execution_count": 38,
   "metadata": {
    "ExecuteTime": {
     "end_time": "2020-11-12T19:55:22.134064Z",
     "start_time": "2020-11-12T19:55:22.118629Z"
    }
   },
   "outputs": [],
   "source": [
    "clf = svm.SVC(kernel='linear', C=100)"
   ]
  },
  {
   "cell_type": "code",
   "execution_count": 39,
   "metadata": {
    "ExecuteTime": {
     "end_time": "2020-11-12T19:55:36.477848Z",
     "start_time": "2020-11-12T19:55:35.255196Z"
    }
   },
   "outputs": [
    {
     "data": {
      "text/plain": [
       "SVC(C=100, kernel='linear')"
      ]
     },
     "execution_count": 39,
     "metadata": {},
     "output_type": "execute_result"
    }
   ],
   "source": [
    "clf.fit(X_train, y_train)"
   ]
  },
  {
   "cell_type": "code",
   "execution_count": 41,
   "metadata": {
    "ExecuteTime": {
     "end_time": "2020-11-12T19:56:01.417292Z",
     "start_time": "2020-11-12T19:56:01.393884Z"
    }
   },
   "outputs": [],
   "source": [
    "predictions = clf.predict(X_test)"
   ]
  },
  {
   "cell_type": "code",
   "execution_count": 42,
   "metadata": {
    "ExecuteTime": {
     "end_time": "2020-11-12T19:56:15.634881Z",
     "start_time": "2020-11-12T19:56:15.616763Z"
    }
   },
   "outputs": [],
   "source": [
    "test_df['Survived'] = predictions"
   ]
  },
  {
   "cell_type": "code",
   "execution_count": 43,
   "metadata": {
    "ExecuteTime": {
     "end_time": "2020-11-12T19:56:27.163819Z",
     "start_time": "2020-11-12T19:56:27.151484Z"
    }
   },
   "outputs": [
    {
     "data": {
      "text/plain": [
       "0    266\n",
       "1    152\n",
       "Name: Survived, dtype: int64"
      ]
     },
     "execution_count": 43,
     "metadata": {},
     "output_type": "execute_result"
    }
   ],
   "source": [
    "test_df.Survived.value_counts()"
   ]
  },
  {
   "cell_type": "code",
   "execution_count": 56,
   "metadata": {
    "ExecuteTime": {
     "end_time": "2020-11-12T20:28:16.502425Z",
     "start_time": "2020-11-12T20:28:16.293985Z"
    }
   },
   "outputs": [
    {
     "name": "stdout",
     "output_type": "stream",
     "text": [
      "0.01 :\n",
      " 0    1.0\n",
      "Name: Survived, dtype: float64\n",
      "0.1 :\n",
      " 0    0.636364\n",
      "1    0.363636\n",
      "Name: Survived, dtype: float64\n",
      "1 :\n",
      " 0    0.641148\n",
      "1    0.358852\n",
      "Name: Survived, dtype: float64\n",
      "10 :\n",
      " 0    0.722488\n",
      "1    0.277512\n",
      "Name: Survived, dtype: float64\n",
      "100 :\n",
      " 0    0.727273\n",
      "1    0.272727\n",
      "Name: Survived, dtype: float64\n",
      "1000 :\n",
      " 0    0.691388\n",
      "1    0.308612\n",
      "Name: Survived, dtype: float64\n"
     ]
    }
   ],
   "source": [
    "C = [0.01, 0.1, 1, 10, 100, 1000]\n",
    "\n",
    "for C_value in C:\n",
    "    X_train, y_train, X_test = prepare_train_and_test_data()\n",
    "    \n",
    "    clf = svm.SVC(kernel='rbf', C=C_value, random_state=1337)\n",
    "    clf.fit(X_train, y_train)\n",
    "    predictions = clf.predict(X_test)\n",
    "    \n",
    "    X_test['Survived'] = predictions\n",
    "    print(C_value,\":\\n\", X_test['Survived'].value_counts() / X_test['Survived'].size)\n",
    "    X_test['Survived'].to_csv(f\"./predictions/Run2_C{C_value}_predictions.csv\")"
   ]
  },
  {
   "cell_type": "code",
   "execution_count": null,
   "metadata": {},
   "outputs": [],
   "source": []
  },
  {
   "cell_type": "code",
   "execution_count": null,
   "metadata": {},
   "outputs": [],
   "source": []
  }
 ],
 "metadata": {
  "kernelspec": {
   "display_name": "Python 3",
   "language": "python",
   "name": "python3"
  },
  "language_info": {
   "codemirror_mode": {
    "name": "ipython",
    "version": 3
   },
   "file_extension": ".py",
   "mimetype": "text/x-python",
   "name": "python",
   "nbconvert_exporter": "python",
   "pygments_lexer": "ipython3",
   "version": "3.8.5"
  },
  "toc": {
   "base_numbering": 1,
   "nav_menu": {},
   "number_sections": true,
   "sideBar": true,
   "skip_h1_title": false,
   "title_cell": "Table of Contents",
   "title_sidebar": "Contents",
   "toc_cell": false,
   "toc_position": {
    "height": "calc(100% - 180px)",
    "left": "10px",
    "top": "150px",
    "width": "239.733px"
   },
   "toc_section_display": true,
   "toc_window_display": true
  }
 },
 "nbformat": 4,
 "nbformat_minor": 4
}
